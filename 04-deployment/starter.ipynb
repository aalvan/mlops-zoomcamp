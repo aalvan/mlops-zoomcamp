{
 "cells": [
  {
   "cell_type": "code",
   "execution_count": 2,
   "id": "4acf73a0-51b5-4663-9bb8-8eb947863e17",
   "metadata": {},
   "outputs": [
    {
     "name": "stdout",
     "output_type": "stream",
     "text": [
      "Python 3.12.2\n"
     ]
    }
   ],
   "source": [
    "!python -V"
   ]
  },
  {
   "cell_type": "code",
   "execution_count": 19,
   "id": "0ef880a0",
   "metadata": {},
   "outputs": [],
   "source": [
    "import pickle\n",
    "\n",
    "import pandas as pd\n",
    "import numpy as np"
   ]
  },
  {
   "cell_type": "code",
   "execution_count": 18,
   "id": "5a640f63-3d2d-4635-8cf2-be6d211b7f53",
   "metadata": {},
   "outputs": [],
   "source": [
    "year = 2023\n",
    "month = 3\n",
    "taxi_type = 'yellow'\n",
    "model_path = 'model.bin'\n",
    "\n",
    "input_file = f'https://d37ci6vzurychx.cloudfront.net/trip-data/{taxi_type}_tripdata_{year:04d}-{month:02d}.parquet'\n",
    "output_file = f'output/{taxi_type}/{year:04d}-{month:02d}.parquet'"
   ]
  },
  {
   "cell_type": "code",
   "execution_count": 23,
   "id": "41c08294",
   "metadata": {},
   "outputs": [],
   "source": [
    "\n",
    "\n",
    "def read_data(filename, year, month):\n",
    "    categorical = ['PULocationID', 'DOLocationID']\n",
    "    df = pd.read_parquet(filename)\n",
    "    \n",
    "    df['duration'] = df.tpep_dropoff_datetime - df.tpep_pickup_datetime\n",
    "    df['duration'] = df.duration.dt.total_seconds() / 60\n",
    "\n",
    "    df = df[(df.duration >= 1) & (df.duration <= 60)].copy()\n",
    "\n",
    "    df[categorical] = df[categorical].fillna(-1).astype('int').astype('str')\n",
    "\n",
    "    df['ride_id'] = f'{year:04d}/{month:02d}_' + df.index.astype('str')\n",
    "    return df\n",
    "\n",
    "def load_model(model_path):\n",
    "    with open(model_path, 'rb') as f_in:\n",
    "        dv, model = pickle.load(f_in)\n",
    "    return dv, model\n",
    "\n",
    "\n",
    "def prepare_dictionaries(df):\n",
    "    categorical = ['PULocationID', 'DOLocationID']\n",
    "    dicts = df[categorical].to_dict(orient='records')\n",
    "    return dicts\n",
    "\n",
    "def get_std(predictions):\n",
    "    std_dev = np.std(y_pred)\n",
    "    print(f\"Standard Deviation of the predicted duration: {std_dev}\")\n",
    "\n",
    "def apply_model(model_path, input_file, output_file, year, month):\n",
    "    print(f'reading the data from {input_file}...')\n",
    "    df = read_data(input_file, year, month)\n",
    "    dicts = prepare_dictionaries(df)\n",
    "\n",
    "    print(f'loading the model from {model_path}...')\n",
    "    dv, model =  load_model(model_path)\n",
    "    X_val = dv.transform(dicts)\n",
    "    \n",
    "    print(f'applying the model...')\n",
    "    y_pred = model.predict(X_val)\n",
    "    \n",
    "    get_std(y_pred)\n",
    "\n",
    "    df_result = pd.DataFrame({\n",
    "        'ride_id': df['ride_id'],\n",
    "        'predicted_duration': y_pred\n",
    "    })\n",
    "\n",
    "    print(f'saving the result to {output_file}...')\n",
    "    df_result.to_parquet(\n",
    "    output_file,\n",
    "    engine='pyarrow',\n",
    "    compression=None,\n",
    "    index=False\n",
    "    )"
   ]
  },
  {
   "cell_type": "code",
   "execution_count": null,
   "id": "17e4b07d-d4a5-49b7-8661-8c3e2591a282",
   "metadata": {},
   "outputs": [],
   "source": [
    "apply_model(model_path=model_path, input_file=input_file, output_file=output_file, year=year, month=month)"
   ]
  },
  {
   "cell_type": "markdown",
   "id": "1c8fac49-6f6a-4dda-a5cd-10e76f2d14df",
   "metadata": {},
   "source": [
    "## Converting to scrip\n",
    "\n",
    "```\n",
    "jupyter nbconvert --to script starter.ipynb\n",
    "````\n"
   ]
  },
  {
   "cell_type": "markdown",
   "id": "2892fd9b-639e-4965-bca1-baa1c8ffd880",
   "metadata": {},
   "source": [
    "## Creating virtual environment"
   ]
  },
  {
   "cell_type": "code",
   "execution_count": 34,
   "id": "6b8c1d4c-57bf-41ca-809b-5574621ba658",
   "metadata": {},
   "outputs": [
    {
     "name": "stdout",
     "output_type": "stream",
     "text": [
      "numpy==1.26.4\n",
      "pandas==2.2.2\n",
      "pyarrow==14.0.1\n",
      "scikit-learn==1.5.0\n"
     ]
    }
   ],
   "source": [
    "!pip freeze | grep -E 'scikit-learn|numpy|pandas|pyarrow'"
   ]
  },
  {
   "cell_type": "code",
   "execution_count": 35,
   "id": "05a6b15f-3167-4788-87d0-68be9e77d093",
   "metadata": {},
   "outputs": [
    {
     "name": "stdout",
     "output_type": "stream",
     "text": [
      "\u001b[1;32mInstalling scikit-\u001b[0m\u001b[1;33mlearn\u001b[0m\u001b[1;32m==\u001b[0m\u001b[1;36m1.5\u001b[0m\u001b[1;32m.\u001b[0m\u001b[1;36m0\u001b[0m\u001b[1;33m...\u001b[0m\n",
      "\u001b[?25lResolving scikit-\u001b[33mlearn\u001b[0m==\u001b[1;36m1.5\u001b[0m.\u001b[1;36m0\u001b[0m\u001b[33m...\u001b[0m\n",
      "\u001b[2K✔ Installation Succeeded\n",
      "\u001b[2K\u001b[32m⠋\u001b[0m Installing scikit-learn...\n",
      "\u001b[1A\u001b[2K\u001b[1;32mInstalling \u001b[0m\u001b[1;33mpandas\u001b[0m\u001b[1;32m==\u001b[0m\u001b[1;36m2.2\u001b[0m\u001b[1;32m.\u001b[0m\u001b[1;36m2\u001b[0m\u001b[1;33m...\u001b[0m\n",
      "\u001b[?25lResolving \u001b[33mpandas\u001b[0m==\u001b[1;36m2.2\u001b[0m.\u001b[1;36m2\u001b[0m\u001b[33m...\u001b[0m\n",
      "\u001b[2K✔ Installation Succeeded\n",
      "\u001b[2K\u001b[32m⠋\u001b[0m Installing pandas...\n",
      "\u001b[1A\u001b[2K\u001b[1;32mInstalling \u001b[0m\u001b[1;33mnumpy\u001b[0m\u001b[1;32m==\u001b[0m\u001b[1;36m1.26\u001b[0m\u001b[1;32m.\u001b[0m\u001b[1;36m4\u001b[0m\u001b[1;33m...\u001b[0m\n",
      "\u001b[?25lResolving \u001b[33mnumpy\u001b[0m==\u001b[1;36m1.26\u001b[0m.\u001b[1;36m4\u001b[0m\u001b[33m...\u001b[0m\n",
      "\u001b[2K✔ Installation Succeeded\n",
      "\u001b[2K\u001b[32m⠋\u001b[0m Installing numpy...\n",
      "\u001b[1A\u001b[2K\u001b[1;32mInstalling \u001b[0m\u001b[1;33mpyarrow\u001b[0m\u001b[1;32m==\u001b[0m\u001b[1;36m14.0\u001b[0m\u001b[1;32m.\u001b[0m\u001b[1;36m1\u001b[0m\u001b[1;33m...\u001b[0m\n",
      "\u001b[?25lResolving \u001b[33mpyarrow\u001b[0m==\u001b[1;36m14.0\u001b[0m.\u001b[1;36m1\u001b[0m\u001b[33m...\u001b[0m\n",
      "\u001b[2K✔ Installation Succeeded\n",
      "\u001b[2K\u001b[32m⠋\u001b[0m Installing pyarrow...\n",
      "\u001b[1A\u001b[2K\u001b[1;32mInstalling argparse\u001b[0m\u001b[1;33m...\u001b[0m\n",
      "\u001b[?25lResolving argparse\u001b[33m...\u001b[0m\n",
      "\u001b[2K\u001b[1mAdded \u001b[0m\u001b[1;32margparse\u001b[0m to Pipfile's \u001b[1;33m[\u001b[0m\u001b[33mpackages\u001b[0m\u001b[1;33m]\u001b[0m \u001b[33m...\u001b[0m\n",
      "\u001b[2K✔ Installation Succeededse...\n",
      "\u001b[2K\u001b[32m⠋\u001b[0m Installing argparse...\n",
      "\u001b[1A\u001b[2K\u001b[1;33mPipfile.lock \u001b[0m\u001b[1;33m(\u001b[0m\u001b[1;33m47cff5\u001b[0m\u001b[1;33m)\u001b[0m\u001b[1;33m out of date, updating to \u001b[0m\u001b[1;33m(\u001b[0m\u001b[1;36m549987\u001b[0m\u001b[1;33m)\u001b[0m\u001b[1;33m...\u001b[0m\n",
      "Locking\u001b[0m \u001b[33m[packages]\u001b[0m dependencies...\u001b[0m\n",
      "\u001b[?25lBuilding requirements\u001b[33m...\u001b[0m\n",
      "\u001b[2KResolving dependencies\u001b[33m...\u001b[0m\n",
      "\u001b[2K✔ Success! Locking...\n",
      "\u001b[2K\u001b[32m⠙\u001b[0m Locking...\n",
      "\u001b[1A\u001b[2KLocking\u001b[0m \u001b[33m[dev-packages]\u001b[0m dependencies...\u001b[0m\n",
      "\u001b[1mUpdated Pipfile.lock (0c49522c0e7b7151cadfc08accdfd1dd3428d1d731d5fd4497f34be37d549987)!\u001b[0m\n",
      "\u001b[1mInstalling dependencies from Pipfile.lock \u001b[0m\u001b[1m(\u001b[0m\u001b[1;36m549987\u001b[0m\u001b[1m)\u001b[0m\u001b[1;33m...\u001b[0m\n",
      "To activate this project's virtualenv, run \u001b[33mpipenv shell\u001b[0m.\n",
      "Alternatively, run a command inside the virtualenv with \u001b[33mpipenv run\u001b[0m.\n"
     ]
    }
   ],
   "source": [
    "! pipenv install scikit-learn==1.5.0 pandas==2.2.2 numpy==1.26.4 pyarrow==14.0.1 argparse"
   ]
  },
  {
   "cell_type": "code",
   "execution_count": 40,
   "id": "055d8f4d-85be-47fd-829e-62e5b3e9db9a",
   "metadata": {},
   "outputs": [
    {
     "name": "stdout",
     "output_type": "stream",
     "text": [
      "reading the data from https://d37ci6vzurychx.cloudfront.net/trip-data/yellow_tripdata_2023-04.parquet ...\n",
      "loading the model from model.bin ...\n",
      "applying the model...\n",
      "Mean of the predicted duration: 14.292282936862449\n",
      "saving the result to output/yellow/2023-04.parquet ...\n"
     ]
    }
   ],
   "source": [
    "! pipenv run python starter.py -y=2023 -m=4"
   ]
  },
  {
   "cell_type": "code",
   "execution_count": null,
   "id": "2c020ce3-9b53-4aa8-9e96-390c01c0eb1f",
   "metadata": {},
   "outputs": [],
   "source": []
  }
 ],
 "metadata": {
  "kernelspec": {
   "display_name": "Python 3 (ipykernel)",
   "language": "python",
   "name": "python3"
  },
  "language_info": {
   "codemirror_mode": {
    "name": "ipython",
    "version": 3
   },
   "file_extension": ".py",
   "mimetype": "text/x-python",
   "name": "python",
   "nbconvert_exporter": "python",
   "pygments_lexer": "ipython3",
   "version": "3.12.2"
  }
 },
 "nbformat": 4,
 "nbformat_minor": 5
}
